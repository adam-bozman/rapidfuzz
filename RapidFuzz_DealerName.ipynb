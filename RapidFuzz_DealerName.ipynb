{
  "nbformat": 4,
  "nbformat_minor": 0,
  "metadata": {
    "colab": {
      "name": "RapidFuzz-DealerName.ipynb",
      "provenance": [],
      "authorship_tag": "ABX9TyMMSUo3H4nSY7BhYzGQoQhn",
      "include_colab_link": true
    },
    "kernelspec": {
      "name": "python3",
      "display_name": "Python 3"
    },
    "language_info": {
      "name": "python"
    }
  },
  "cells": [
    {
      "cell_type": "markdown",
      "metadata": {
        "id": "view-in-github",
        "colab_type": "text"
      },
      "source": [
        "<a href=\"https://colab.research.google.com/github/adam-bozman/rapidfuzz/blob/main/RapidFuzz_DealerName.ipynb\" target=\"_parent\"><img src=\"https://colab.research.google.com/assets/colab-badge.svg\" alt=\"Open In Colab\"/></a>"
      ]
    },
    {
      "cell_type": "markdown",
      "source": [
        "# A Simple Rapidfuzz Example"
      ],
      "metadata": {
        "id": "dMir9VaRKHh5"
      }
    },
    {
      "cell_type": "markdown",
      "source": [
        "## Imports"
      ],
      "metadata": {
        "id": "FU0bkJ-_KFMw"
      }
    },
    {
      "cell_type": "code",
      "source": [
        "####################\n",
        "# Import Libraries #\n",
        "####################\n",
        "\n",
        "import pandas as pd\n",
        "import numpy as np\n",
        "import unicodedata\n",
        "from unicodedata import normalize\n",
        "import re\n",
        "import nltk\n",
        "from nltk.corpus import stopwords\n",
        "import unicodedata"
      ],
      "metadata": {
        "id": "qj8zr35L0SrZ"
      },
      "execution_count": 107,
      "outputs": []
    },
    {
      "cell_type": "code",
      "source": [
        "!pip install rapidfuzz -q"
      ],
      "metadata": {
        "id": "dc_d68Is0k61"
      },
      "execution_count": 108,
      "outputs": []
    },
    {
      "cell_type": "code",
      "source": [
        "from rapidfuzz import fuzz\n",
        "from rapidfuzz import process"
      ],
      "metadata": {
        "id": "MeWrKXoV0pT2"
      },
      "execution_count": 109,
      "outputs": []
    },
    {
      "cell_type": "code",
      "execution_count": 110,
      "metadata": {
        "id": "cglktAQo0OgP"
      },
      "outputs": [],
      "source": [
        "# Import CSV (or XLSX)\n",
        "\n",
        "# Selecting only the first column\n",
        "# This CSV in particular appears to have been encoded on MAC OS initially\n",
        "# If not the case, ignore 'mac_roman'\n",
        "\n",
        "df1 = pd.read_csv(r\"/content/dealer_check.csv\", usecols=['dealer_naic'], encoding='mac_roman')\n",
        "df1.rename(columns ={'dealer_naic':'names'}, inplace = True) \n",
        "# df1 = df1.iloc[:501, ]\n",
        "\n",
        "df2 = pd.read_csv(r\"/content/dealer_check.csv\", usecols=['dealer_hist'], encoding='mac_roman')\n",
        "df2.rename(columns ={'dealer_hist':'dealers'}, inplace = True) \n",
        "df2 = df2.iloc[:423, ]"
      ]
    },
    {
      "cell_type": "markdown",
      "source": [
        "## Preprocessing Data"
      ],
      "metadata": {
        "id": "cE9fojUL652k"
      }
    },
    {
      "cell_type": "code",
      "source": [
        "df1['names'] = df1['names'].fillna(\"\")\n",
        "\n",
        "df1['names']=df1['names'].str.lower()\n",
        "\n",
        "def remove_whitespace(text):\n",
        "    return  \" \".join(text.split())\n",
        "df1['names']=df1['names'].apply(remove_whitespace)\n",
        "\n",
        "import nltk\n",
        "nltk.download('punkt')\n",
        "from nltk import word_tokenize\n",
        "\n",
        "df1['names']=df1['names'].apply(lambda X: word_tokenize(X))"
      ],
      "metadata": {
        "colab": {
          "base_uri": "https://localhost:8080/"
        },
        "id": "kBCJ7uT46a2L",
        "outputId": "f1d467a7-cb28-4399-cc13-8cb0430198f3"
      },
      "execution_count": 111,
      "outputs": [
        {
          "output_type": "stream",
          "name": "stdout",
          "text": [
            "[nltk_data] Downloading package punkt to /root/nltk_data...\n",
            "[nltk_data]   Package punkt is already up-to-date!\n"
          ]
        }
      ]
    },
    {
      "cell_type": "code",
      "source": [
        "nltk.download('stopwords')\n",
        "from nltk.corpus import stopwords\n",
        "\n",
        "en_stopwords = stopwords.words('english')\n",
        "\n",
        "def remove_stopwords(text):\n",
        "    result = []\n",
        "    for token in text:\n",
        "        if token not in en_stopwords:\n",
        "            result.append(token)\n",
        "            \n",
        "    return result\n",
        "  \n",
        "df1['names'] = df1['names'].apply(remove_stopwords)\n",
        "\n",
        "from nltk.tokenize import RegexpTokenizer\n",
        "\n",
        "def remove_punct(text):\n",
        "    \n",
        "    tokenizer = RegexpTokenizer(r\"\\w+\")\n",
        "    lst=tokenizer.tokenize(' '.join(text))\n",
        "    return lst\n",
        "\n",
        "df1['names'] = df1['names'].apply(remove_punct)\n",
        "\n",
        "nltk.download('averaged_perceptron_tagger')\n",
        "nltk.download('wordnet')\n",
        "from nltk.stem import WordNetLemmatizer\n",
        "from nltk import word_tokenize,pos_tag\n",
        "\n",
        "def lemmatization(text):\n",
        "    \n",
        "    result=[]\n",
        "    wordnet = WordNetLemmatizer()\n",
        "    for token,tag in pos_tag(text):\n",
        "        pos=tag[0].lower()\n",
        "        \n",
        "        if pos not in ['a', 'r', 'n', 'v']:\n",
        "            pos='n'\n",
        "            \n",
        "        result.append(wordnet.lemmatize(token,pos))\n",
        "    \n",
        "    return result\n",
        "\n",
        "df1['names']=df1['names'].apply(lemmatization)\n",
        "\n",
        "from nltk.stem import PorterStemmer\n",
        "\n",
        "def stemming(text):\n",
        "    porter = PorterStemmer()\n",
        "    \n",
        "    result=[]\n",
        "    for word in text:\n",
        "        result.append(porter.stem(word))\n",
        "    return result\n",
        "\n",
        "df1['names']=df1['names'].apply(stemming)"
      ],
      "metadata": {
        "colab": {
          "base_uri": "https://localhost:8080/"
        },
        "id": "69_kXIyK7ANd",
        "outputId": "804e37e4-1c7d-455f-965c-0d7016747cd4"
      },
      "execution_count": 112,
      "outputs": [
        {
          "output_type": "stream",
          "name": "stdout",
          "text": [
            "[nltk_data] Downloading package stopwords to /root/nltk_data...\n",
            "[nltk_data]   Package stopwords is already up-to-date!\n",
            "[nltk_data] Downloading package averaged_perceptron_tagger to\n",
            "[nltk_data]     /root/nltk_data...\n",
            "[nltk_data]   Package averaged_perceptron_tagger is already up-to-\n",
            "[nltk_data]       date!\n",
            "[nltk_data] Downloading package wordnet to /root/nltk_data...\n",
            "[nltk_data]   Package wordnet is already up-to-date!\n"
          ]
        }
      ]
    },
    {
      "cell_type": "code",
      "source": [
        "import re\n",
        "def remove_tag(text):\n",
        "    \n",
        "    text=' '.join(text)\n",
        "    html_pattern = re.compile('<.*?>')\n",
        "    return html_pattern.sub(r'', text)\n",
        "df1['names'] = df1['names'].apply(remove_tag)\n",
        "\n",
        "def remove_urls(text):\n",
        "    url_pattern = re.compile(r'https?://\\S+|www\\.\\S+')\n",
        "    return url_pattern.sub(r'', str(text))\n",
        "\n",
        "df1['names'] = df1['names'].apply(remove_urls)"
      ],
      "metadata": {
        "id": "KI_oMe4Q7RsJ"
      },
      "execution_count": 113,
      "outputs": []
    },
    {
      "cell_type": "code",
      "source": [
        "def remove_nums(text):\n",
        "    nums_pattern = re.compile(r'[0-9]')\n",
        "    return nums_pattern.sub(r'', str(text))\n",
        "\n",
        "df1['names'] = df1['names'].apply(remove_nums)"
      ],
      "metadata": {
        "id": "Fub_sUw788hb"
      },
      "execution_count": 114,
      "outputs": []
    },
    {
      "cell_type": "code",
      "source": [
        "dframe1 = df1\n",
        "dframe2 = df2"
      ],
      "metadata": {
        "id": "RErhzlml_Swt"
      },
      "execution_count": 115,
      "outputs": []
    },
    {
      "cell_type": "markdown",
      "source": [
        "## The Fuzzy Process"
      ],
      "metadata": {
        "id": "csAKFwem-wvF"
      }
    },
    {
      "cell_type": "code",
      "source": [
        "# empty lists for storing the matches\n",
        "# later\n",
        "mat1 = []\n",
        "mat2 = []\n",
        "p = []\n",
        "  \n",
        "# printing the pandas dataframes\n",
        "print(\"First dataframe:\\n\", dframe1,\n",
        "      \"\\nSecond dataframe:\\n\", dframe2)\n",
        "  \n",
        "# converting dataframe column \n",
        "# to list of elements\n",
        "# to do fuzzy matching\n",
        "list1 = dframe1['names'].tolist()\n",
        "list2 = dframe2['dealers'].tolist()\n",
        "  \n",
        "# taking the threshold as 60\n",
        "threshold = 60\n",
        "  \n",
        "# iterating through list1 to extract\n",
        "# it's closest match from list2\n",
        "for i in list1:\n",
        "    mat1.append(process.extractOne(\n",
        "      i, list2, scorer=fuzz.token_set_ratio))\n",
        "dframe1['matches'] = mat1\n",
        "  \n",
        "# iterating through the closest matches\n",
        "# to filter out the maximum closest match\n",
        "for j in dframe1['matches']:\n",
        "    if j[1] >= threshold:\n",
        "        p.append(j[0])\n",
        "    mat2.append(\",\".join(p))\n",
        "    p = []\n",
        "  \n",
        "  \n",
        "# storing the resultant matches back \n",
        "# to dframe1\n",
        "dframe1['matches'] = mat2\n",
        "print(\"\\nDataFrame after Fuzzy matching using token_set_ratio():\")\n",
        "dframe1"
      ],
      "metadata": {
        "colab": {
          "base_uri": "https://localhost:8080/",
          "height": 979
        },
        "id": "ixYb8RXP4brn",
        "outputId": "a724767d-0a00-482f-b271-39e9a14bfc1e"
      },
      "execution_count": 116,
      "outputs": [
        {
          "output_type": "stream",
          "name": "stdout",
          "text": [
            "First dataframe:\n",
            "                                names\n",
            "0               arbor research trade\n",
            "1                              stern\n",
            "2                    goldman sach co\n",
            "3                       sandler neil\n",
            "4      smith barney harri co correct\n",
            "...                              ...\n",
            "25383                    zurinsco zi\n",
            "25384                          zwirn\n",
            "25385                     zzz broker\n",
            "25386                           _gsl\n",
            "25387             spear leed kellogg\n",
            "\n",
            "[25388 rows x 1 columns] \n",
            "Second dataframe:\n",
            "                                        dealers\n",
            "0         ABN AMRO BANK, N.V., NY BR          \n",
            "1         ABN AMRO INCORPORATED               \n",
            "2          AUBREY G. LANSTON & CO., INC.      \n",
            "3          BA SECURITIES, INC.                \n",
            "4    BANC OF AMERICA SECURITIES LLC           \n",
            "..                                         ...\n",
            "418                       SALOMON SMITH BARENY\n",
            "419                       SOLOMAN SMITH BARNEY\n",
            "420                       USCC/BANCO SANTANDER\n",
            "421                   WACHOVIA SECURITITES INC\n",
            "422                 WELLS FARGO/MORGAN STANLEY\n",
            "\n",
            "[423 rows x 1 columns]\n",
            "\n",
            "DataFrame after Fuzzy matching using token_set_ratio():\n"
          ]
        },
        {
          "output_type": "execute_result",
          "data": {
            "text/plain": [
              "                               names                              matches\n",
              "0               arbor research trade               ARBOR RESEARCH&TRADING\n",
              "1                              stern                               STERNE\n",
              "2                    goldman sach co  GOLDMAN, SACHS & CO.               \n",
              "3                       sandler neil                                     \n",
              "4      smith barney harri co correct                         SMITH BARNEY\n",
              "...                              ...                                  ...\n",
              "25383                    zurinsco zi                                     \n",
              "25384                          zwirn                                     \n",
              "25385                     zzz broker                                     \n",
              "25386                           _gsl                                     \n",
              "25387             spear leed kellogg                                     \n",
              "\n",
              "[25388 rows x 2 columns]"
            ],
            "text/html": [
              "\n",
              "  <div id=\"df-e406cdb5-9acf-4493-83e3-cb28986827e5\">\n",
              "    <div class=\"colab-df-container\">\n",
              "      <div>\n",
              "<style scoped>\n",
              "    .dataframe tbody tr th:only-of-type {\n",
              "        vertical-align: middle;\n",
              "    }\n",
              "\n",
              "    .dataframe tbody tr th {\n",
              "        vertical-align: top;\n",
              "    }\n",
              "\n",
              "    .dataframe thead th {\n",
              "        text-align: right;\n",
              "    }\n",
              "</style>\n",
              "<table border=\"1\" class=\"dataframe\">\n",
              "  <thead>\n",
              "    <tr style=\"text-align: right;\">\n",
              "      <th></th>\n",
              "      <th>names</th>\n",
              "      <th>matches</th>\n",
              "    </tr>\n",
              "  </thead>\n",
              "  <tbody>\n",
              "    <tr>\n",
              "      <th>0</th>\n",
              "      <td>arbor research trade</td>\n",
              "      <td>ARBOR RESEARCH&amp;TRADING</td>\n",
              "    </tr>\n",
              "    <tr>\n",
              "      <th>1</th>\n",
              "      <td>stern</td>\n",
              "      <td>STERNE</td>\n",
              "    </tr>\n",
              "    <tr>\n",
              "      <th>2</th>\n",
              "      <td>goldman sach co</td>\n",
              "      <td>GOLDMAN, SACHS &amp; CO.</td>\n",
              "    </tr>\n",
              "    <tr>\n",
              "      <th>3</th>\n",
              "      <td>sandler neil</td>\n",
              "      <td></td>\n",
              "    </tr>\n",
              "    <tr>\n",
              "      <th>4</th>\n",
              "      <td>smith barney harri co correct</td>\n",
              "      <td>SMITH BARNEY</td>\n",
              "    </tr>\n",
              "    <tr>\n",
              "      <th>...</th>\n",
              "      <td>...</td>\n",
              "      <td>...</td>\n",
              "    </tr>\n",
              "    <tr>\n",
              "      <th>25383</th>\n",
              "      <td>zurinsco zi</td>\n",
              "      <td></td>\n",
              "    </tr>\n",
              "    <tr>\n",
              "      <th>25384</th>\n",
              "      <td>zwirn</td>\n",
              "      <td></td>\n",
              "    </tr>\n",
              "    <tr>\n",
              "      <th>25385</th>\n",
              "      <td>zzz broker</td>\n",
              "      <td></td>\n",
              "    </tr>\n",
              "    <tr>\n",
              "      <th>25386</th>\n",
              "      <td>_gsl</td>\n",
              "      <td></td>\n",
              "    </tr>\n",
              "    <tr>\n",
              "      <th>25387</th>\n",
              "      <td>spear leed kellogg</td>\n",
              "      <td></td>\n",
              "    </tr>\n",
              "  </tbody>\n",
              "</table>\n",
              "<p>25388 rows × 2 columns</p>\n",
              "</div>\n",
              "      <button class=\"colab-df-convert\" onclick=\"convertToInteractive('df-e406cdb5-9acf-4493-83e3-cb28986827e5')\"\n",
              "              title=\"Convert this dataframe to an interactive table.\"\n",
              "              style=\"display:none;\">\n",
              "        \n",
              "  <svg xmlns=\"http://www.w3.org/2000/svg\" height=\"24px\"viewBox=\"0 0 24 24\"\n",
              "       width=\"24px\">\n",
              "    <path d=\"M0 0h24v24H0V0z\" fill=\"none\"/>\n",
              "    <path d=\"M18.56 5.44l.94 2.06.94-2.06 2.06-.94-2.06-.94-.94-2.06-.94 2.06-2.06.94zm-11 1L8.5 8.5l.94-2.06 2.06-.94-2.06-.94L8.5 2.5l-.94 2.06-2.06.94zm10 10l.94 2.06.94-2.06 2.06-.94-2.06-.94-.94-2.06-.94 2.06-2.06.94z\"/><path d=\"M17.41 7.96l-1.37-1.37c-.4-.4-.92-.59-1.43-.59-.52 0-1.04.2-1.43.59L10.3 9.45l-7.72 7.72c-.78.78-.78 2.05 0 2.83L4 21.41c.39.39.9.59 1.41.59.51 0 1.02-.2 1.41-.59l7.78-7.78 2.81-2.81c.8-.78.8-2.07 0-2.86zM5.41 20L4 18.59l7.72-7.72 1.47 1.35L5.41 20z\"/>\n",
              "  </svg>\n",
              "      </button>\n",
              "      \n",
              "  <style>\n",
              "    .colab-df-container {\n",
              "      display:flex;\n",
              "      flex-wrap:wrap;\n",
              "      gap: 12px;\n",
              "    }\n",
              "\n",
              "    .colab-df-convert {\n",
              "      background-color: #E8F0FE;\n",
              "      border: none;\n",
              "      border-radius: 50%;\n",
              "      cursor: pointer;\n",
              "      display: none;\n",
              "      fill: #1967D2;\n",
              "      height: 32px;\n",
              "      padding: 0 0 0 0;\n",
              "      width: 32px;\n",
              "    }\n",
              "\n",
              "    .colab-df-convert:hover {\n",
              "      background-color: #E2EBFA;\n",
              "      box-shadow: 0px 1px 2px rgba(60, 64, 67, 0.3), 0px 1px 3px 1px rgba(60, 64, 67, 0.15);\n",
              "      fill: #174EA6;\n",
              "    }\n",
              "\n",
              "    [theme=dark] .colab-df-convert {\n",
              "      background-color: #3B4455;\n",
              "      fill: #D2E3FC;\n",
              "    }\n",
              "\n",
              "    [theme=dark] .colab-df-convert:hover {\n",
              "      background-color: #434B5C;\n",
              "      box-shadow: 0px 1px 3px 1px rgba(0, 0, 0, 0.15);\n",
              "      filter: drop-shadow(0px 1px 2px rgba(0, 0, 0, 0.3));\n",
              "      fill: #FFFFFF;\n",
              "    }\n",
              "  </style>\n",
              "\n",
              "      <script>\n",
              "        const buttonEl =\n",
              "          document.querySelector('#df-e406cdb5-9acf-4493-83e3-cb28986827e5 button.colab-df-convert');\n",
              "        buttonEl.style.display =\n",
              "          google.colab.kernel.accessAllowed ? 'block' : 'none';\n",
              "\n",
              "        async function convertToInteractive(key) {\n",
              "          const element = document.querySelector('#df-e406cdb5-9acf-4493-83e3-cb28986827e5');\n",
              "          const dataTable =\n",
              "            await google.colab.kernel.invokeFunction('convertToInteractive',\n",
              "                                                     [key], {});\n",
              "          if (!dataTable) return;\n",
              "\n",
              "          const docLinkHtml = 'Like what you see? Visit the ' +\n",
              "            '<a target=\"_blank\" href=https://colab.research.google.com/notebooks/data_table.ipynb>data table notebook</a>'\n",
              "            + ' to learn more about interactive tables.';\n",
              "          element.innerHTML = '';\n",
              "          dataTable['output_type'] = 'display_data';\n",
              "          await google.colab.output.renderOutput(dataTable, element);\n",
              "          const docLink = document.createElement('div');\n",
              "          docLink.innerHTML = docLinkHtml;\n",
              "          element.appendChild(docLink);\n",
              "        }\n",
              "      </script>\n",
              "    </div>\n",
              "  </div>\n",
              "  "
            ]
          },
          "metadata": {},
          "execution_count": 116
        }
      ]
    },
    {
      "cell_type": "markdown",
      "source": [
        "## Date Output"
      ],
      "metadata": {
        "id": "Gi1bdUk0Gp3T"
      }
    },
    {
      "cell_type": "code",
      "source": [
        "# Import the original dataframe\n",
        "df = pd.read_csv(r\"/content/dealer_check.csv\", usecols=['dealer_name'], encoding='mac_roman')\n",
        "df.rename(columns ={'dealer_name':'hand_dealers'}, inplace = True) "
      ],
      "metadata": {
        "id": "2nxdynfd4boj"
      },
      "execution_count": 117,
      "outputs": []
    },
    {
      "cell_type": "code",
      "source": [
        "# Concat the original data frame with the results\n",
        "# dealers = aggregated list of dealers\n",
        "# hand_dealers = dealers already renamed by hand\n",
        "# names = cleaned and preprocessed names \n",
        "# matches = renamed dealers at 60% accuracy\n",
        "\n",
        "dealer_checked = pd.concat([dframe2,df,dframe1],\n",
        "                           axis = 1)"
      ],
      "metadata": {
        "id": "Na_bGuDm5OCf"
      },
      "execution_count": 118,
      "outputs": []
    },
    {
      "cell_type": "code",
      "source": [
        "dealer_checked.to_csv('dealer_check_cleaned.csv')"
      ],
      "metadata": {
        "id": "K8KUO6qL5N_6"
      },
      "execution_count": 120,
      "outputs": []
    }
  ]
}